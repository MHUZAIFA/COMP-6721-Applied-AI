{
 "cells": [
  {
   "cell_type": "code",
   "execution_count": 1,
   "id": "6fe59fc5",
   "metadata": {},
   "outputs": [],
   "source": [
    "import argparse, itertools, json, os, time, copy\n",
    "from pathlib import Path\n",
    "import numpy as np\n",
    "from PIL import Image\n",
    "\n",
    "import torch\n",
    "import torch.nn as nn\n",
    "import torch.optim as optim\n",
    "import torchvision.transforms as T\n",
    "from torchvision.datasets import ImageFolder\n",
    "from torch.utils.data import DataLoader, random_split\n",
    "from torchvision.transforms import ToTensor, Resize, Compose\n",
    "\n",
    "\n",
    "from sklearn.metrics import (accuracy_score, precision_recall_fscore_support,\n",
    "                             classification_report, confusion_matrix)\n",
    "import seaborn as sns\n",
    "import matplotlib.pyplot as plt\n",
    "from tqdm import tqdm\n",
    "import random\n",
    "\n",
    "\n"
   ]
  },
  {
   "cell_type": "code",
   "execution_count": 2,
   "id": "cc9132de",
   "metadata": {},
   "outputs": [],
   "source": [
    "# For reproducability\n",
    "def set_seed(seed):\n",
    "    random.seed(seed)\n",
    "    np.random.seed(seed)\n",
    "    torch.manual_seed(seed)\n",
    "    torch.cuda.manual_seed_all(seed)"
   ]
  },
  {
   "cell_type": "code",
   "execution_count": null,
   "id": "24f8fd72",
   "metadata": {},
   "outputs": [],
   "source": [
    "# === Hyper‑parameters ===\n",
    "IMG_SIZE    = 256  # keep native resolution\n",
    "BATCH_SIZE  = 64   # larger = faster mem‑wise\n",
    "LR          = 1e-3\n",
    "NUM_CLASSES = 3\n",
    "SAVE_PATH   = \"cnn_best.pth\"\n",
    "MAX_EPOCHS  = 50           # per hyper‑param configuration\n",
    "DEVICE      = torch.device(\"cuda:0\" if torch.cuda.is_available() else \"cpu\")\n",
    "DEVICE      = torch.device(\"mps\" if torch.backends.mps.is_available() else \"cpu\")\n",
    "SEED        = 6721\n",
    "LR_GRID     = [LR] #Automated tuning\n",
    "FILTER_GRID = [32] #Automated tuning\n",
    "\n",
    "set_seed(SEED)\n",
    "# torch.manual_seed(SEED)"
   ]
  },
  {
   "cell_type": "code",
   "execution_count": 13,
   "id": "8433c39c",
   "metadata": {},
   "outputs": [
    {
     "name": "stderr",
     "output_type": "stream",
     "text": [
      "100%|██████████| 235/235 [00:29<00:00,  8.09it/s]"
     ]
    },
    {
     "name": "stdout",
     "output_type": "stream",
     "text": [
      "Dataset mean : [0.46252310276031494, 0.41599270701408386, 0.36371758580207825]\n",
      "Dataset std  : [0.26319679617881775, 0.2594147026538849, 0.2628735303878784]\n"
     ]
    },
    {
     "name": "stderr",
     "output_type": "stream",
     "text": [
      "\n"
     ]
    }
   ],
   "source": [
    "# %%  Compute dataset mean / std  (run once)\n",
    "\n",
    "tfm = Compose([Resize((IMG_SIZE, IMG_SIZE)), ToTensor()])  # no normalize yet\n",
    "train_ds = ImageFolder(\"/Users/shurrab/Library/CloudStorage/OneDrive-Personal/PhD Concordia/Courses/COMP6721 Applied AI/Project/Phase I/Training\", transform=tfm)\n",
    "loader   = DataLoader(train_ds, batch_size=BATCH_SIZE, shuffle=False, num_workers=4)\n",
    "\n",
    "cnt, mean, M2 = 0, torch.zeros(3), torch.zeros(3)  \n",
    "for x, _ in tqdm(loader):\n",
    "    # x shape: [B, 3, H, W]; collapse spatial dims\n",
    "    b, c, h, w = x.shape\n",
    "    x = x.permute(1,0,2,3).reshape(c, -1)          \n",
    "    cnt_b      = x.shape[1]\n",
    "    mean_b     = x.mean(1)\n",
    "    # Welford update\n",
    "    delta      = mean_b - mean\n",
    "    cnt_new    = cnt + cnt_b\n",
    "    mean       += delta * cnt_b / cnt_new\n",
    "    M2         += (x - mean_b.view(3,1)).pow(2).sum(1) + delta.pow(2) * cnt * cnt_b / cnt_new\n",
    "    cnt        = cnt_new\n",
    "\n",
    "std = torch.sqrt(M2 / (cnt - 1))\n",
    "print(f\"Dataset mean : {mean.tolist()}\")\n",
    "print(f\"Dataset std  : {std.tolist()}\")\n",
    "\n"
   ]
  },
  {
   "cell_type": "code",
   "execution_count": 14,
   "id": "f3258fc4",
   "metadata": {},
   "outputs": [],
   "source": [
    "TRAIN_MEAN = mean.tolist()\n",
    "TRAIN_STD = std.tolist()"
   ]
  },
  {
   "cell_type": "code",
   "execution_count": null,
   "id": "fe2bf8ac",
   "metadata": {},
   "outputs": [],
   "source": [
    "# === Data transforms ===\n",
    "train_tfms = T.Compose([\n",
    "    T.Resize((IMG_SIZE, IMG_SIZE)),\n",
    "    T.RandomHorizontalFlip(p=0.5),\n",
    "    T.RandomRotation(degrees=15),\n",
    "    T.ColorJitter(brightness=0.2, contrast=0.2, saturation=0.2),\n",
    "    T.ToTensor(),\n",
    "    T.Normalize(TRAIN_MEAN, TRAIN_STD)\n",
    "])\n",
    "test_tfms = T.Compose([\n",
    "    T.Resize((IMG_SIZE, IMG_SIZE)),\n",
    "    T.ToTensor(),\n",
    "    T.Normalize(TRAIN_MEAN, TRAIN_STD)\n",
    "])\n",
    "\n",
    "# === Datasets & loaders ===\n",
    "def get_loaders(val_split=0.1):\n",
    "    full_train = ImageFolder(\"/Users/shurrab/Library/CloudStorage/OneDrive-Personal/PhD Concordia/Courses/COMP6721 Applied AI/Project/Phase I/Training\", transform=train_tfms)\n",
    "    test_set   = ImageFolder(\"/Users/shurrab/Library/CloudStorage/OneDrive-Personal/PhD Concordia/Courses/COMP6721 Applied AI/Project/Phase I/Test\",  transform=test_tfms)\n",
    "\n",
    "    val_size = int(len(full_train) * val_split)\n",
    "    train_size = len(full_train) - val_size\n",
    "    train_set, val_set = random_split(full_train, [train_size, val_size],\n",
    "                                      generator=torch.Generator().manual_seed(SEED))\n",
    "\n",
    "\n",
    "    train_ld = DataLoader(train_set, batch_size=BATCH_SIZE, shuffle=True,  num_workers=4, pin_memory=False)\n",
    "    val_ld   = DataLoader(val_set,   batch_size=BATCH_SIZE, shuffle=False, num_workers=4, pin_memory=False)\n",
    "    test_ld  = DataLoader(test_set,  batch_size=BATCH_SIZE, shuffle=False, num_workers=4, pin_memory=False)\n",
    "    return train_ld, val_ld, test_ld, full_train.classes"
   ]
  },
  {
   "cell_type": "code",
   "execution_count": null,
   "id": "02fc9a06",
   "metadata": {},
   "outputs": [],
   "source": [
    "class CNN(nn.Module):\n",
    "    def __init__(self, n_classes=NUM_CLASSES):\n",
    "        super().__init__()\n",
    "        self.features = nn.Sequential(\n",
    "            nn.Conv2d(3, 32, 3, padding=1), nn.BatchNorm2d(32), nn.ReLU(), nn.MaxPool2d(2),        # 128x128\n",
    "            nn.Conv2d(32, 64, 3, padding=1), nn.BatchNorm2d(64), nn.ReLU(), nn.MaxPool2d(2),       # 64x64\n",
    "            nn.Conv2d(64, 128, 3, padding=1), nn.BatchNorm2d(128), nn.ReLU(), nn.MaxPool2d(2),      # 32x32\n",
    "            nn.Conv2d(128, 128, 3, padding=1), nn.BatchNorm2d(128), nn.ReLU(), nn.MaxPool2d(2)       # 16x16\n",
    "        )\n",
    "\n",
    "        # with torch.no_grad():\n",
    "        #     dummy = torch.zeros(1, 3, 256, 256)\n",
    "        #     dummy_out = self.features(dummy)\n",
    "        #     self.flat_dim = dummy_out.view(1, -1).shape[1]\n",
    "        ### Add self.flat_dim instead of manually multiplying\n",
    "\n",
    "        self.classifier = nn.Sequential(\n",
    "            nn.Flatten(),\n",
    "            nn.Linear(128*16*16, 512), nn.ReLU(), nn.Dropout(0.2),\n",
    "            nn.Linear(512, 256), nn.ReLU(), nn.Dropout(0.2),\n",
    "            nn.Linear(256, 64), nn.ReLU(), nn.Dropout(0.2),\n",
    "            nn.Linear(64, n_classes)\n",
    "        )\n",
    "\n",
    "    def forward(self, x): return self.classifier(self.features(x))\n"
   ]
  },
  {
   "cell_type": "code",
   "execution_count": 26,
   "id": "305737e0",
   "metadata": {},
   "outputs": [],
   "source": [
    "def init_weights(m):\n",
    "    if isinstance(m, (nn.Conv2d, nn.Linear)):\n",
    "        nn.init.kaiming_normal_(m.weight, mode=\"fan_in\", nonlinearity=\"relu\")\n",
    "        if m.bias is not None:\n",
    "            nn.init.constant_(m.bias, 0)\n",
    "    elif isinstance(m, nn.BatchNorm2d): #This is the same as the default weights\n",
    "        nn.init.constant_(m.weight, 1)\n",
    "        nn.init.constant_(m.bias, 0)"
   ]
  },
  {
   "cell_type": "code",
   "execution_count": 27,
   "id": "46a75cea",
   "metadata": {},
   "outputs": [],
   "source": [
    "def run_epoch(model, loader, loss_fn, opt=None):\n",
    "    train = opt is not None\n",
    "    model.train() if train else model.eval()\n",
    "    losses, preds, gts = [], [], []\n",
    "    correct, total = 0, 0\n",
    "    for x,y in (tqdm(loader, leave=True) if train else loader):\n",
    "        x,y = x.to(DEVICE), y.to(DEVICE)\n",
    "        with torch.set_grad_enabled(train):\n",
    "            out = model(x)\n",
    "            loss = loss_fn(out, y)\n",
    "            if train:\n",
    "                opt.zero_grad(); loss.backward(); opt.step()\n",
    "        \n",
    "        losses.append(loss.item()*x.size(0))\n",
    "        pred_labels = out.argmax(1)\n",
    "        preds.extend(pred_labels.cpu().tolist())\n",
    "        gts.extend(y.cpu().tolist())\n",
    "\n",
    "        correct += (pred_labels == y).sum().item()\n",
    "        total   += y.size(0)\n",
    "\n",
    "    avg_loss = np.sum(losses) / total\n",
    "    avg_acc  = correct / total\n",
    "    return avg_loss,avg_acc, preds, gts"
   ]
  },
  {
   "cell_type": "code",
   "execution_count": 28,
   "id": "db08cef2",
   "metadata": {},
   "outputs": [],
   "source": [
    "def metric_dict(y_true, y_pred):\n",
    "    acc = accuracy_score(y_true, y_pred)\n",
    "    pr, rc, f1, _ = precision_recall_fscore_support(\n",
    "        y_true, y_pred, average='macro', zero_division=0)\n",
    "    return {\"acc\":acc, \"pr\":pr, \"rc\":rc, \"f1\":f1}"
   ]
  },
  {
   "cell_type": "code",
   "execution_count": 29,
   "id": "8daee2e2",
   "metadata": {},
   "outputs": [
    {
     "name": "stdout",
     "output_type": "stream",
     "text": [
      "\n",
      " Config → lr=0.0001, filters=32\n"
     ]
    },
    {
     "name": "stderr",
     "output_type": "stream",
     "text": [
      "100%|██████████| 211/211 [00:49<00:00,  4.29it/s]\n"
     ]
    },
    {
     "name": "stdout",
     "output_type": "stream",
     "text": [
      "  Epoch 01/50  train_loss=0.904 tr_acc=0.579 val_acc=0.584\n",
      "\n"
     ]
    },
    {
     "name": "stderr",
     "output_type": "stream",
     "text": [
      "100%|██████████| 211/211 [00:48<00:00,  4.34it/s]\n"
     ]
    },
    {
     "name": "stdout",
     "output_type": "stream",
     "text": [
      "  Epoch 02/50  train_loss=0.747 tr_acc=0.690 val_acc=0.729\n",
      "\n"
     ]
    },
    {
     "name": "stderr",
     "output_type": "stream",
     "text": [
      "100%|██████████| 211/211 [00:47<00:00,  4.42it/s]\n"
     ]
    },
    {
     "name": "stdout",
     "output_type": "stream",
     "text": [
      "  Epoch 03/50  train_loss=0.660 tr_acc=0.737 val_acc=0.655\n",
      "\n"
     ]
    },
    {
     "name": "stderr",
     "output_type": "stream",
     "text": [
      "100%|██████████| 211/211 [00:48<00:00,  4.34it/s]\n"
     ]
    },
    {
     "name": "stdout",
     "output_type": "stream",
     "text": [
      "  Epoch 04/50  train_loss=0.614 tr_acc=0.759 val_acc=0.642\n",
      "\n"
     ]
    },
    {
     "name": "stderr",
     "output_type": "stream",
     "text": [
      "100%|██████████| 211/211 [00:47<00:00,  4.40it/s]\n"
     ]
    },
    {
     "name": "stdout",
     "output_type": "stream",
     "text": [
      "  Epoch 05/50  train_loss=0.581 tr_acc=0.771 val_acc=0.749\n",
      "\n"
     ]
    },
    {
     "name": "stderr",
     "output_type": "stream",
     "text": [
      "100%|██████████| 211/211 [00:48<00:00,  4.39it/s]\n"
     ]
    },
    {
     "name": "stdout",
     "output_type": "stream",
     "text": [
      "  Epoch 06/50  train_loss=0.555 tr_acc=0.781 val_acc=0.777\n",
      "\n"
     ]
    },
    {
     "name": "stderr",
     "output_type": "stream",
     "text": [
      "100%|██████████| 211/211 [00:48<00:00,  4.38it/s]\n"
     ]
    },
    {
     "name": "stdout",
     "output_type": "stream",
     "text": [
      "  Epoch 07/50  train_loss=0.526 tr_acc=0.792 val_acc=0.797\n",
      "\n"
     ]
    },
    {
     "name": "stderr",
     "output_type": "stream",
     "text": [
      "100%|██████████| 211/211 [00:47<00:00,  4.41it/s]\n"
     ]
    },
    {
     "name": "stdout",
     "output_type": "stream",
     "text": [
      "  Epoch 08/50  train_loss=0.515 tr_acc=0.801 val_acc=0.787\n",
      "\n"
     ]
    },
    {
     "name": "stderr",
     "output_type": "stream",
     "text": [
      "100%|██████████| 211/211 [00:47<00:00,  4.40it/s]\n"
     ]
    },
    {
     "name": "stdout",
     "output_type": "stream",
     "text": [
      "  Epoch 09/50  train_loss=0.487 tr_acc=0.813 val_acc=0.803\n",
      "\n"
     ]
    },
    {
     "name": "stderr",
     "output_type": "stream",
     "text": [
      "100%|██████████| 211/211 [00:47<00:00,  4.41it/s]\n"
     ]
    },
    {
     "name": "stdout",
     "output_type": "stream",
     "text": [
      "  Epoch 10/50  train_loss=0.475 tr_acc=0.818 val_acc=0.801\n",
      "\n"
     ]
    },
    {
     "name": "stderr",
     "output_type": "stream",
     "text": [
      "100%|██████████| 211/211 [00:47<00:00,  4.42it/s]\n"
     ]
    },
    {
     "name": "stdout",
     "output_type": "stream",
     "text": [
      "  Epoch 11/50  train_loss=0.455 tr_acc=0.826 val_acc=0.769\n",
      "\n"
     ]
    },
    {
     "name": "stderr",
     "output_type": "stream",
     "text": [
      "100%|██████████| 211/211 [00:48<00:00,  4.36it/s]\n"
     ]
    },
    {
     "name": "stdout",
     "output_type": "stream",
     "text": [
      "  Epoch 12/50  train_loss=0.431 tr_acc=0.830 val_acc=0.822\n",
      "\n"
     ]
    },
    {
     "name": "stderr",
     "output_type": "stream",
     "text": [
      "100%|██████████| 211/211 [00:48<00:00,  4.39it/s]\n"
     ]
    },
    {
     "name": "stdout",
     "output_type": "stream",
     "text": [
      "  Epoch 13/50  train_loss=0.422 tr_acc=0.839 val_acc=0.841\n",
      "\n"
     ]
    },
    {
     "name": "stderr",
     "output_type": "stream",
     "text": [
      "100%|██████████| 211/211 [00:48<00:00,  4.36it/s]\n"
     ]
    },
    {
     "name": "stdout",
     "output_type": "stream",
     "text": [
      "  Epoch 14/50  train_loss=0.416 tr_acc=0.841 val_acc=0.832\n",
      "\n"
     ]
    },
    {
     "name": "stderr",
     "output_type": "stream",
     "text": [
      "100%|██████████| 211/211 [00:48<00:00,  4.36it/s]\n"
     ]
    },
    {
     "name": "stdout",
     "output_type": "stream",
     "text": [
      "  Epoch 15/50  train_loss=0.400 tr_acc=0.845 val_acc=0.808\n",
      "\n"
     ]
    },
    {
     "name": "stderr",
     "output_type": "stream",
     "text": [
      "100%|██████████| 211/211 [00:48<00:00,  4.38it/s]\n"
     ]
    },
    {
     "name": "stdout",
     "output_type": "stream",
     "text": [
      "  Epoch 16/50  train_loss=0.389 tr_acc=0.853 val_acc=0.831\n",
      "\n"
     ]
    },
    {
     "name": "stderr",
     "output_type": "stream",
     "text": [
      "100%|██████████| 211/211 [00:47<00:00,  4.40it/s]\n"
     ]
    },
    {
     "name": "stdout",
     "output_type": "stream",
     "text": [
      "  Epoch 17/50  train_loss=0.377 tr_acc=0.857 val_acc=0.789\n",
      "\n"
     ]
    },
    {
     "name": "stderr",
     "output_type": "stream",
     "text": [
      "100%|██████████| 211/211 [00:48<00:00,  4.35it/s]\n"
     ]
    },
    {
     "name": "stdout",
     "output_type": "stream",
     "text": [
      "  Epoch 18/50  train_loss=0.360 tr_acc=0.865 val_acc=0.818\n",
      "\n"
     ]
    },
    {
     "name": "stderr",
     "output_type": "stream",
     "text": [
      "100%|██████████| 211/211 [00:48<00:00,  4.39it/s]\n"
     ]
    },
    {
     "name": "stdout",
     "output_type": "stream",
     "text": [
      "  Epoch 19/50  train_loss=0.359 tr_acc=0.867 val_acc=0.849\n",
      "\n"
     ]
    },
    {
     "name": "stderr",
     "output_type": "stream",
     "text": [
      "100%|██████████| 211/211 [00:48<00:00,  4.38it/s]\n"
     ]
    },
    {
     "name": "stdout",
     "output_type": "stream",
     "text": [
      "  Epoch 20/50  train_loss=0.348 tr_acc=0.868 val_acc=0.838\n",
      "\n"
     ]
    },
    {
     "name": "stderr",
     "output_type": "stream",
     "text": [
      "100%|██████████| 211/211 [00:48<00:00,  4.39it/s]\n"
     ]
    },
    {
     "name": "stdout",
     "output_type": "stream",
     "text": [
      "  Epoch 21/50  train_loss=0.352 tr_acc=0.866 val_acc=0.834\n",
      "\n"
     ]
    },
    {
     "name": "stderr",
     "output_type": "stream",
     "text": [
      "100%|██████████| 211/211 [00:47<00:00,  4.40it/s]\n"
     ]
    },
    {
     "name": "stdout",
     "output_type": "stream",
     "text": [
      "  Epoch 22/50  train_loss=0.328 tr_acc=0.878 val_acc=0.823\n",
      "\n"
     ]
    },
    {
     "name": "stderr",
     "output_type": "stream",
     "text": [
      "100%|██████████| 211/211 [00:47<00:00,  4.41it/s]\n"
     ]
    },
    {
     "name": "stdout",
     "output_type": "stream",
     "text": [
      "  Epoch 23/50  train_loss=0.324 tr_acc=0.879 val_acc=0.841\n",
      "\n"
     ]
    },
    {
     "name": "stderr",
     "output_type": "stream",
     "text": [
      "100%|██████████| 211/211 [00:47<00:00,  4.41it/s]\n"
     ]
    },
    {
     "name": "stdout",
     "output_type": "stream",
     "text": [
      "  Epoch 24/50  train_loss=0.317 tr_acc=0.882 val_acc=0.859\n",
      "\n"
     ]
    },
    {
     "name": "stderr",
     "output_type": "stream",
     "text": [
      "100%|██████████| 211/211 [00:47<00:00,  4.41it/s]\n"
     ]
    },
    {
     "name": "stdout",
     "output_type": "stream",
     "text": [
      "  Epoch 25/50  train_loss=0.312 tr_acc=0.885 val_acc=0.829\n",
      "\n"
     ]
    },
    {
     "name": "stderr",
     "output_type": "stream",
     "text": [
      "100%|██████████| 211/211 [00:47<00:00,  4.43it/s]\n"
     ]
    },
    {
     "name": "stdout",
     "output_type": "stream",
     "text": [
      "  Epoch 26/50  train_loss=0.296 tr_acc=0.892 val_acc=0.843\n",
      "\n"
     ]
    },
    {
     "name": "stderr",
     "output_type": "stream",
     "text": [
      "100%|██████████| 211/211 [00:48<00:00,  4.37it/s]\n"
     ]
    },
    {
     "name": "stdout",
     "output_type": "stream",
     "text": [
      "  Epoch 27/50  train_loss=0.286 tr_acc=0.894 val_acc=0.841\n",
      "\n"
     ]
    },
    {
     "name": "stderr",
     "output_type": "stream",
     "text": [
      "100%|██████████| 211/211 [00:47<00:00,  4.41it/s]\n"
     ]
    },
    {
     "name": "stdout",
     "output_type": "stream",
     "text": [
      "  Epoch 28/50  train_loss=0.283 tr_acc=0.897 val_acc=0.820\n",
      "\n"
     ]
    },
    {
     "name": "stderr",
     "output_type": "stream",
     "text": [
      "100%|██████████| 211/211 [00:48<00:00,  4.39it/s]\n"
     ]
    },
    {
     "name": "stdout",
     "output_type": "stream",
     "text": [
      "  Epoch 29/50  train_loss=0.277 tr_acc=0.898 val_acc=0.843\n",
      "\n"
     ]
    },
    {
     "name": "stderr",
     "output_type": "stream",
     "text": [
      "100%|██████████| 211/211 [00:47<00:00,  4.40it/s]\n"
     ]
    },
    {
     "name": "stdout",
     "output_type": "stream",
     "text": [
      "  Epoch 30/50  train_loss=0.268 tr_acc=0.902 val_acc=0.835\n",
      "\n"
     ]
    },
    {
     "name": "stderr",
     "output_type": "stream",
     "text": [
      "100%|██████████| 211/211 [00:47<00:00,  4.42it/s]\n"
     ]
    },
    {
     "name": "stdout",
     "output_type": "stream",
     "text": [
      "  Epoch 31/50  train_loss=0.252 tr_acc=0.905 val_acc=0.822\n",
      "\n"
     ]
    },
    {
     "name": "stderr",
     "output_type": "stream",
     "text": [
      "100%|██████████| 211/211 [00:47<00:00,  4.44it/s]\n"
     ]
    },
    {
     "name": "stdout",
     "output_type": "stream",
     "text": [
      "  Epoch 32/50  train_loss=0.259 tr_acc=0.905 val_acc=0.813\n",
      "\n"
     ]
    },
    {
     "name": "stderr",
     "output_type": "stream",
     "text": [
      "100%|██████████| 211/211 [00:47<00:00,  4.47it/s]\n"
     ]
    },
    {
     "name": "stdout",
     "output_type": "stream",
     "text": [
      "  Epoch 33/50  train_loss=0.243 tr_acc=0.910 val_acc=0.831\n",
      "\n"
     ]
    },
    {
     "name": "stderr",
     "output_type": "stream",
     "text": [
      "100%|██████████| 211/211 [00:48<00:00,  4.36it/s]\n"
     ]
    },
    {
     "name": "stdout",
     "output_type": "stream",
     "text": [
      "  Epoch 34/50  train_loss=0.241 tr_acc=0.910 val_acc=0.823\n",
      "\n"
     ]
    },
    {
     "name": "stderr",
     "output_type": "stream",
     "text": [
      "100%|██████████| 211/211 [00:48<00:00,  4.33it/s]\n"
     ]
    },
    {
     "name": "stdout",
     "output_type": "stream",
     "text": [
      "  Epoch 35/50  train_loss=0.233 tr_acc=0.917 val_acc=0.839\n",
      "\n"
     ]
    },
    {
     "name": "stderr",
     "output_type": "stream",
     "text": [
      "100%|██████████| 211/211 [00:47<00:00,  4.43it/s]\n"
     ]
    },
    {
     "name": "stdout",
     "output_type": "stream",
     "text": [
      "  Epoch 36/50  train_loss=0.224 tr_acc=0.918 val_acc=0.847\n",
      "\n"
     ]
    },
    {
     "name": "stderr",
     "output_type": "stream",
     "text": [
      "100%|██████████| 211/211 [00:47<00:00,  4.44it/s]\n"
     ]
    },
    {
     "name": "stdout",
     "output_type": "stream",
     "text": [
      "  Epoch 37/50  train_loss=0.217 tr_acc=0.920 val_acc=0.854\n",
      "\n"
     ]
    },
    {
     "name": "stderr",
     "output_type": "stream",
     "text": [
      "100%|██████████| 211/211 [00:47<00:00,  4.40it/s]\n"
     ]
    },
    {
     "name": "stdout",
     "output_type": "stream",
     "text": [
      "  Epoch 38/50  train_loss=0.219 tr_acc=0.921 val_acc=0.847\n",
      "\n"
     ]
    },
    {
     "name": "stderr",
     "output_type": "stream",
     "text": [
      "100%|██████████| 211/211 [00:47<00:00,  4.42it/s]\n"
     ]
    },
    {
     "name": "stdout",
     "output_type": "stream",
     "text": [
      "  Epoch 39/50  train_loss=0.202 tr_acc=0.925 val_acc=0.821\n",
      "\n"
     ]
    },
    {
     "name": "stderr",
     "output_type": "stream",
     "text": [
      "100%|██████████| 211/211 [00:48<00:00,  4.39it/s]\n"
     ]
    },
    {
     "name": "stdout",
     "output_type": "stream",
     "text": [
      "  Epoch 40/50  train_loss=0.201 tr_acc=0.925 val_acc=0.826\n",
      "\n"
     ]
    },
    {
     "name": "stderr",
     "output_type": "stream",
     "text": [
      "100%|██████████| 211/211 [00:48<00:00,  4.39it/s]\n"
     ]
    },
    {
     "name": "stdout",
     "output_type": "stream",
     "text": [
      "  Epoch 41/50  train_loss=0.199 tr_acc=0.927 val_acc=0.840\n",
      "\n"
     ]
    },
    {
     "name": "stderr",
     "output_type": "stream",
     "text": [
      "100%|██████████| 211/211 [00:48<00:00,  4.37it/s]\n"
     ]
    },
    {
     "name": "stdout",
     "output_type": "stream",
     "text": [
      "  Epoch 42/50  train_loss=0.190 tr_acc=0.931 val_acc=0.836\n",
      "\n"
     ]
    },
    {
     "name": "stderr",
     "output_type": "stream",
     "text": [
      "100%|██████████| 211/211 [00:48<00:00,  4.39it/s]\n"
     ]
    },
    {
     "name": "stdout",
     "output_type": "stream",
     "text": [
      "  Epoch 43/50  train_loss=0.189 tr_acc=0.930 val_acc=0.831\n",
      "\n"
     ]
    },
    {
     "name": "stderr",
     "output_type": "stream",
     "text": [
      "100%|██████████| 211/211 [00:47<00:00,  4.42it/s]\n"
     ]
    },
    {
     "name": "stdout",
     "output_type": "stream",
     "text": [
      "  Epoch 44/50  train_loss=0.173 tr_acc=0.937 val_acc=0.846\n",
      "\n"
     ]
    },
    {
     "name": "stderr",
     "output_type": "stream",
     "text": [
      "100%|██████████| 211/211 [00:47<00:00,  4.40it/s]\n"
     ]
    },
    {
     "name": "stdout",
     "output_type": "stream",
     "text": [
      "  Epoch 45/50  train_loss=0.175 tr_acc=0.937 val_acc=0.855\n",
      "\n"
     ]
    },
    {
     "name": "stderr",
     "output_type": "stream",
     "text": [
      "100%|██████████| 211/211 [00:47<00:00,  4.44it/s]\n"
     ]
    },
    {
     "name": "stdout",
     "output_type": "stream",
     "text": [
      "  Epoch 46/50  train_loss=0.177 tr_acc=0.938 val_acc=0.764\n",
      "\n"
     ]
    },
    {
     "name": "stderr",
     "output_type": "stream",
     "text": [
      "100%|██████████| 211/211 [00:47<00:00,  4.43it/s]\n"
     ]
    },
    {
     "name": "stdout",
     "output_type": "stream",
     "text": [
      "  Epoch 47/50  train_loss=0.174 tr_acc=0.936 val_acc=0.843\n",
      "\n"
     ]
    },
    {
     "name": "stderr",
     "output_type": "stream",
     "text": [
      "100%|██████████| 211/211 [00:47<00:00,  4.43it/s]\n"
     ]
    },
    {
     "name": "stdout",
     "output_type": "stream",
     "text": [
      "  Epoch 48/50  train_loss=0.171 tr_acc=0.937 val_acc=0.833\n",
      "\n"
     ]
    },
    {
     "name": "stderr",
     "output_type": "stream",
     "text": [
      "100%|██████████| 211/211 [00:47<00:00,  4.43it/s]\n"
     ]
    },
    {
     "name": "stdout",
     "output_type": "stream",
     "text": [
      "  Epoch 49/50  train_loss=0.155 tr_acc=0.943 val_acc=0.824\n",
      "\n"
     ]
    },
    {
     "name": "stderr",
     "output_type": "stream",
     "text": [
      "100%|██████████| 211/211 [00:48<00:00,  4.36it/s]\n"
     ]
    },
    {
     "name": "stdout",
     "output_type": "stream",
     "text": [
      "  Epoch 50/50  train_loss=0.156 tr_acc=0.941 val_acc=0.853\n",
      "\n",
      "\n",
      " Best config: {'lr': 0.0001, 'base_filters': 32}  | val_acc=0.859\n",
      "Model saved → cnn_best(4conv,4FC)BZ_256.pth\n"
     ]
    }
   ],
   "source": [
    "train_ld, val_ld, test_ld, classes = get_loaders()\n",
    "best_score, best_cfg, best_state = 0, None, None\n",
    "best_loss = 1e10\n",
    "best_tr_acc = -1\n",
    "patience = 3\n",
    "counter = 0\n",
    "\n",
    "for lr, base_filters in itertools.product(LR_GRID, FILTER_GRID):\n",
    "    print(f\"\\n Config → lr={lr}, filters={base_filters}\")\n",
    "    model = CNN()\n",
    "    # model.apply(init_weights) ## Weights Initialization\n",
    "    model.to(DEVICE)\n",
    "    \n",
    "    opt    = optim.Adam(model.parameters(), lr=LR)\n",
    "    loss_fn= nn.CrossEntropyLoss()\n",
    "\n",
    "    for epoch in range(1, MAX_EPOCHS+1):\n",
    "        tr_loss, tr_acc, _, _ = run_epoch(model, train_ld, loss_fn, opt)\n",
    "        val_loss, _, val_pred, val_gt = run_epoch(model, val_ld, loss_fn)\n",
    "        val_metrics = metric_dict(val_gt, val_pred)\n",
    "        print(f\"  Epoch {epoch:02d}/{MAX_EPOCHS}  train_loss={tr_loss:.3f} tr_acc={tr_acc:.3f} val_acc={val_metrics['acc']:.3f}\\n\")\n",
    "\n",
    "        \n",
    "        if val_metrics['acc'] > best_score:\n",
    "            best_score = val_metrics['acc']\n",
    "            best_cfg   = {\"lr\":lr, \"base_filters\":base_filters}\n",
    "            best_state = copy.deepcopy(model.state_dict())\n",
    "        \n",
    "        # if tr_loss < best_loss:\n",
    "        #     best_loss = tr_loss\n",
    "        #     counter = 0\n",
    "        if tr_acc > best_tr_acc:\n",
    "            best_tr_acc = tr_acc\n",
    "            counter = 0\n",
    "        else:\n",
    "            counter+=1\n",
    "            if counter >= patience:\n",
    "                print(\"early stopping\")\n",
    "                break\n",
    "\n",
    "\n",
    "torch.save(model.state_dict(), SAVE_PATH)\n",
    "print(f\"\\n Best config: {best_cfg}  | val_acc={best_score:.3f}\\nModel saved → {SAVE_PATH}\")\n",
    "\n"
   ]
  },
  {
   "cell_type": "code",
   "execution_count": 30,
   "id": "7d5bbc11",
   "metadata": {},
   "outputs": [
    {
     "name": "stdout",
     "output_type": "stream",
     "text": [
      "\n",
      " Test metrics: {'acc': '0.897', 'pr': '0.897', 'rc': '0.897', 'f1': '0.897'}\n",
      "\n",
      "Classification Report:\n",
      "                       precision    recall  f1-score   support\n",
      "\n",
      "      library-indoor       0.89      0.92      0.91       100\n",
      "       museum-indoor       0.91      0.86      0.89       100\n",
      "shopping_mall-indoor       0.88      0.91      0.90       100\n",
      "\n",
      "            accuracy                           0.90       300\n",
      "           macro avg       0.90      0.90      0.90       300\n",
      "        weighted avg       0.90      0.90      0.90       300\n",
      "\n"
     ]
    },
    {
     "data": {
      "image/png": "[encoded data removed]",
      "text/plain": [
       "<Figure size 500x400 with 2 Axes>"
      ]
     },
     "metadata": {},
     "output_type": "display_data"
    }
   ],
   "source": [
    "# Final test evaluation\n",
    "best_model = CNN().to(DEVICE)\n",
    "best_model.load_state_dict(torch.load(SAVE_PATH))\n",
    "loss_fn = nn.CrossEntropyLoss()\n",
    "te_loss,_, te_pred, te_gt = run_epoch(best_model, test_ld, loss_fn)\n",
    "test_metrics = metric_dict(te_gt, te_pred)\n",
    "print(\"\\n Test metrics:\", {k:f\"{v:.3f}\" for k,v in test_metrics.items()})\n",
    "print(\"\\nClassification Report:\\n\", classification_report(te_gt, te_pred, target_names=classes))\n",
    "\n",
    "cm = confusion_matrix(te_gt, te_pred)\n",
    "plt.figure(figsize=(5,4))\n",
    "sns.heatmap(cm, annot=True, fmt='d', cmap='Blues',\n",
    "            xticklabels=classes, yticklabels=classes)\n",
    "plt.xlabel(\"Predicted\"); plt.ylabel(\"True\"); plt.title(\"CNN Confusion Matrix (Test)\")\n",
    "plt.tight_layout(); plt.show()"
   ]
  },
  {
   "cell_type": "code",
   "execution_count": null,
   "id": "1a561ed1",
   "metadata": {},
   "outputs": [
    {
     "name": "stdout",
     "output_type": "stream",
     "text": [
      "torch.Size([1, 128, 16, 16])\n"
     ]
    },
    {
     "data": {
      "text/plain": [
       "Linear(in_features=8192, out_features=512, bias=True)"
      ]
     },
     "execution_count": 14,
     "metadata": {},
     "output_type": "execute_result"
    }
   ],
   "source": [
    "## To set the dimension size manually after flatten layer\n",
    "x = torch.randn(1, 3, 256, 256).to(DEVICE)\n",
    "out = model.features(x)\n",
    "print(out.shape)  # e.g., [1, 128, 8, 8] → 128×8×8 = 8192\n",
    "\n",
    "# Then update:\n",
    "nn.Linear(128 * 8 * 8, 512)\n"
   ]
  },
  {
   "cell_type": "code",
   "execution_count": null,
   "id": "953d8ca7",
   "metadata": {},
   "outputs": [],
   "source": [
    "@torch.no_grad()\n",
    "## To test a single image on the trained/saved model\n",
    "# SAVE_PATH = \"\"   # The saved model path\n",
    "def predict_image(img_path):\n",
    "    # ckpt = torch.load(SAVE_PATH, map_location=DEVICE)\n",
    "    model = CNN().to(DEVICE)\n",
    "    model.load_state_dict(torch.load(SAVE_PATH))\n",
    "    model.eval()\n",
    "    tfm = test_tfms\n",
    "    img = tfm(Image.open(img_path).convert(\"RGB\")).unsqueeze(0).to(DEVICE)\n",
    "    pred = model(img).argmax(1).item()\n",
    "    class_names = [\"library\", \"museum\", \"shopping mall\"]\n",
    "    print(f\"Prediction → {class_names[pred]}\")"
   ]
  },
  {
   "cell_type": "code",
   "execution_count": 20,
   "id": "11aec0df",
   "metadata": {},
   "outputs": [
    {
     "name": "stdout",
     "output_type": "stream",
     "text": [
      "Prediction → library\n"
     ]
    }
   ],
   "source": [
    "predict_image(\"Test.jpg\")"
   ]
  },
  {
   "cell_type": "code",
   "execution_count": null,
   "id": "c9293192",
   "metadata": {},
   "outputs": [],
   "source": []
  }
 ],
 "metadata": {
  "kernelspec": {
   "display_name": "sim",
   "language": "python",
   "name": "python3"
  },
  "language_info": {
   "codemirror_mode": {
    "name": "ipython",
    "version": 3
   },
   "file_extension": ".py",
   "mimetype": "text/x-python",
   "name": "python",
   "nbconvert_exporter": "python",
   "pygments_lexer": "ipython3",
   "version": "3.13.3"
  }
 },
 "nbformat": 4,
 "nbformat_minor": 5
}
