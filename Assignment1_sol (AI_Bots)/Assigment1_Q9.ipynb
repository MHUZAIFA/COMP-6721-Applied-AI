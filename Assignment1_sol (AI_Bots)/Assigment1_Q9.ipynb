{
 "cells": [
  {
   "cell_type": "code",
   "execution_count": 8,
   "id": "0b319902",
   "metadata": {},
   "outputs": [],
   "source": [
    "# XGBoost Classifier on Wallet Dataset\n",
    "\n",
    "import pandas as pd\n",
    "import numpy as np\n",
    "from sklearn.model_selection import train_test_split\n",
    "from sklearn.metrics import accuracy_score, precision_score, recall_score, f1_score, confusion_matrix, classification_report\n",
    "import xgboost as xgb\n",
    "from xgboost import XGBClassifier\n",
    "import matplotlib.pyplot as plt\n",
    "import seaborn as sns\n",
    "\n",
    "pd.set_option('display.float_format', '{:.3f}'.format)"
   ]
  },
  {
   "cell_type": "code",
   "execution_count": 9,
   "id": "9e6987fe",
   "metadata": {},
   "outputs": [
    {
     "name": "stdout",
     "output_type": "stream",
     "text": [
      "   wallet  male  business  punish  explain\n",
      "0       2     0         0       2        0\n",
      "1       2     0         0       2        1\n",
      "2       3     0         0       1        1\n",
      "3       3     0         0       2        0\n",
      "4       1     1         0       1        1\n"
     ]
    }
   ],
   "source": [
    "## Step 2: Load Dataset\n",
    "df = pd.read_excel(\"Wallet.xlsx\")\n",
    "print(df.head())\n",
    "\n",
    "## Step 3: Preprocess Data\n",
    "X = df.drop(\"wallet\", axis=1)\n",
    "y = df[\"wallet\"] - 1  # convert to 0,1,2\n",
    "\n",
    "# Split data\n",
    "X_train, X_test, y_train, y_test = train_test_split(X, y, test_size=0.25, random_state=6721)"
   ]
  },
  {
   "cell_type": "code",
   "execution_count": 15,
   "id": "950f531a",
   "metadata": {},
   "outputs": [
    {
     "name": "stderr",
     "output_type": "stream",
     "text": [
      "/Users/shurrab/miniconda3/envs/sim/lib/python3.13/site-packages/xgboost/training.py:183: UserWarning: [21:06:53] WARNING: /Users/runner/work/xgboost/xgboost/src/learner.cc:738: \n",
      "Parameters: { \"use_label_encoder\" } are not used.\n",
      "\n",
      "  bst.update(dtrain, iteration=i, fobj=obj)\n"
     ]
    },
    {
     "name": "stdout",
     "output_type": "stream",
     "text": [
      "--- Training Set ---\n",
      "Accuracy: 0.678\n",
      "Precision (macro): 0.702\n",
      "Recall (macro): 0.519\n",
      "F1 Score (macro): 0.514\n",
      "Confusion Matrix:\n",
      "[[10  0 10]\n",
      " [ 2  4 30]\n",
      " [ 4  1 85]]\n",
      "Classification Report:\n",
      "              precision    recall  f1-score   support\n",
      "\n",
      "           0       0.62      0.50      0.56        20\n",
      "           1       0.80      0.11      0.20        36\n",
      "           2       0.68      0.94      0.79        90\n",
      "\n",
      "    accuracy                           0.68       146\n",
      "   macro avg       0.70      0.52      0.51       146\n",
      "weighted avg       0.70      0.68      0.61       146\n",
      "\n",
      "--- Test Set ---\n",
      "Accuracy: 0.571\n",
      "Precision (macro): 0.286\n",
      "Recall (macro): 0.374\n",
      "F1 Score (macro): 0.324\n",
      "Confusion Matrix:\n",
      "[[ 1  0  3]\n",
      " [ 3  0 11]\n",
      " [ 1  3 27]]\n",
      "Classification Report:\n",
      "              precision    recall  f1-score   support\n",
      "\n",
      "           0       0.20      0.25      0.22         4\n",
      "           1       0.00      0.00      0.00        14\n",
      "           2       0.66      0.87      0.75        31\n",
      "\n",
      "    accuracy                           0.57        49\n",
      "   macro avg       0.29      0.37      0.32        49\n",
      "weighted avg       0.43      0.57      0.49        49\n",
      "\n"
     ]
    }
   ],
   "source": [
    "## Step 4: Train XGBoost Classifier\n",
    "model = XGBClassifier(\n",
    "    learning_rate=0.1,\n",
    "    max_depth=2,\n",
    "    n_estimators=100,\n",
    "    objective=\"multi:softmax\",\n",
    "    num_class=3,\n",
    "    eval_metric=\"mlogloss\",\n",
    "    use_label_encoder=False\n",
    ")\n",
    "\n",
    "model.fit(X_train, y_train)\n",
    "\n",
    "## Step 5: Evaluate Model\n",
    "def evaluate_model(y_true, y_pred, dataset_name):\n",
    "    print(f\"--- {dataset_name} ---\")\n",
    "    print(\"Accuracy:\", round(accuracy_score(y_true, y_pred),3))\n",
    "    print(\"Precision (macro):\", round(precision_score(y_true, y_pred, average='macro'),3))\n",
    "    print(\"Recall (macro):\", round(recall_score(y_true, y_pred, average='macro'),3))\n",
    "    print(\"F1 Score (macro):\", round(f1_score(y_true, y_pred, average='macro'),3))\n",
    "    print(\"Confusion Matrix:\")\n",
    "    print(confusion_matrix(y_true, y_pred))\n",
    "    print(\"Classification Report:\")\n",
    "    print(classification_report(y_true, y_pred))\n",
    "    \n",
    "# Predictions\n",
    "train_pred = model.predict(X_train)\n",
    "test_pred = model.predict(X_test)\n",
    "\n",
    "evaluate_model(y_train, train_pred, \"Training Set\")\n",
    "evaluate_model(y_test, test_pred, \"Test Set\")"
   ]
  },
  {
   "cell_type": "code",
   "execution_count": 16,
   "id": "41fa84e4",
   "metadata": {},
   "outputs": [
    {
     "name": "stdout",
     "output_type": "stream",
     "text": [
      "\n",
      "Comparison of Different Learning Rates and Tree Depths:\n",
      "   Learning Rate  Max Depth  Test - Accuracy  Test - F1 Score  Train - Accuracy  Train - F1 Score\n",
      "0          0.100          2            0.571            0.324             0.678             0.514\n",
      "1          0.100          5            0.551            0.318             0.692             0.543\n",
      "2          0.500          2            0.571            0.324             0.678             0.525\n",
      "3          0.500          5            0.551            0.318             0.692             0.580\n",
      "\n",
      "Names (ID):\n",
      "Huzaifa Mohammed (40242080),\n",
      "Mohammed Shurrab (40323793),\n",
      "Oleksandr Yasinovskyy (40241188)\n"
     ]
    }
   ],
   "source": [
    "## Step 6: Analyze Learning Rate and Max Depth\n",
    "results = []\n",
    "for lr in [0.1, 0.5]:\n",
    "    for depth in [2, 5]:\n",
    "        clf = xgb.XGBClassifier(learning_rate=lr, max_depth=depth, n_estimators=100,\n",
    "                                objective=\"multi:softmax\", num_class=4, eval_metric=\"mlogloss\")\n",
    "        clf.fit(X_train, y_train)\n",
    "        pred = clf.predict(X_test)\n",
    "        acc_test = accuracy_score(y_test, pred)\n",
    "        acc_train = accuracy_score(y_train, clf.predict(X_train))\n",
    "        f1_test = f1_score(y_test, pred, average='macro')\n",
    "        f1_train = f1_score(y_train, clf.predict(X_train), average='macro')\n",
    "        results.append((lr, depth, acc_test, f1_test, acc_train, f1_train))\n",
    "\n",
    "results_df = pd.DataFrame(results, columns=[\"Learning Rate\", \"Max Depth\", \"Test - Accuracy\", \"Test - F1 Score\", \"Train - Accuracy\", \"Train - F1 Score\"])\n",
    "print(\"\\nComparison of Different Learning Rates and Tree Depths:\")\n",
    "with pd.option_context('expand_frame_repr', False):\n",
    "    print (results_df)\n",
    "# print(results_df)\n",
    "print(\"\\nNames (ID):\")\n",
    "print(\"Huzaifa Mohammed (40242080),\\nMohammed Shurrab (40323793),\\nOleksandr Yasinovskyy (40241188)\")\n",
    "\n",
    "\n",
    "# ## Step 7: Visualize Results\n",
    "# # test\n",
    "# sns.barplot(data=results_df[0:4], x=\"Learning Rate\", y=\"Test Accuracy\", hue=\"Max Depth\")\n",
    "# plt.title(\"Test Accuracy by Learning Rate and Max Depth\")\n",
    "# plt.show()\n",
    "\n",
    "# sns.barplot(data=results_df[0:4], x=\"Learning Rate\", y=\"F1 Score\", hue=\"Max Depth\")\n",
    "# plt.title(\"F1 Score by Learning Rate and Max Depth\")\n",
    "# plt.show()"
   ]
  },
  {
   "cell_type": "code",
   "execution_count": null,
   "id": "82358c39",
   "metadata": {},
   "outputs": [],
   "source": []
  }
 ],
 "metadata": {
  "kernelspec": {
   "display_name": "sim",
   "language": "python",
   "name": "python3"
  },
  "language_info": {
   "codemirror_mode": {
    "name": "ipython",
    "version": 3
   },
   "file_extension": ".py",
   "mimetype": "text/x-python",
   "name": "python",
   "nbconvert_exporter": "python",
   "pygments_lexer": "ipython3",
   "version": "3.13.3"
  }
 },
 "nbformat": 4,
 "nbformat_minor": 5
}
